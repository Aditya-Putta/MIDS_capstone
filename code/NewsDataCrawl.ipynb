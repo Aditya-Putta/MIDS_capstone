{
 "cells": [
  {
   "cell_type": "code",
   "execution_count": 7,
   "metadata": {
    "collapsed": false
   },
   "outputs": [],
   "source": [
    "import load_data\n",
    "import requests\n",
    "from bs4 import BeautifulSoup\n",
    "from datetime import datetime"
   ]
  },
  {
   "cell_type": "code",
   "execution_count": 8,
   "metadata": {
    "collapsed": false
   },
   "outputs": [],
   "source": [
    "sp500 = load_data.get_SP500_stocks()"
   ]
  },
  {
   "cell_type": "code",
   "execution_count": 10,
   "metadata": {
    "collapsed": false
   },
   "outputs": [
    {
     "name": "stdout",
     "output_type": "stream",
     "text": [
      "0\n",
      "https://finance.google.com/finance/company_news?q=AAPL&enddate=2017-11-01&start=0&num=10\n",
      "1\n",
      "https://finance.google.com/finance/company_news?q=AAPL&enddate=2017-11-01&start=10&num=10\n",
      "2\n",
      "https://finance.google.com/finance/company_news?q=AAPL&enddate=2017-11-01&start=20&num=10\n",
      "3\n",
      "https://finance.google.com/finance/company_news?q=AAPL&enddate=2017-11-01&start=30&num=10\n",
      "4\n",
      "https://finance.google.com/finance/company_news?q=AAPL&enddate=2017-11-01&start=40&num=10\n",
      "5\n",
      "https://finance.google.com/finance/company_news?q=AAPL&enddate=2017-11-01&start=50&num=10\n"
     ]
    },
    {
     "ename": "ValueError",
     "evalue": "time data '32 minutes ago' does not match format '%b %d %Y'",
     "output_type": "error",
     "traceback": [
      "\u001b[0;31m---------------------------------------------------------------------------\u001b[0m",
      "\u001b[0;31mValueError\u001b[0m                                Traceback (most recent call last)",
      "\u001b[0;32m<ipython-input-10-e67517606f37>\u001b[0m in \u001b[0;36m<module>\u001b[0;34m()\u001b[0m\n\u001b[1;32m     26\u001b[0m                     \u001b[0;32melse\u001b[0m\u001b[0;34m:\u001b[0m\u001b[0;34m\u001b[0m\u001b[0m\n\u001b[1;32m     27\u001b[0m                         \u001b[0;32mif\u001b[0m \u001b[0mitem\u001b[0m \u001b[0;34m<>\u001b[0m \u001b[0mnews\u001b[0m\u001b[0;34m[\u001b[0m\u001b[0;34m-\u001b[0m\u001b[0;36m1\u001b[0m\u001b[0;34m]\u001b[0m\u001b[0;34m[\u001b[0m\u001b[0;36m2\u001b[0m\u001b[0;34m]\u001b[0m\u001b[0;34m:\u001b[0m\u001b[0;34m\u001b[0m\u001b[0m\n\u001b[0;32m---> 28\u001b[0;31m                             \u001b[0mitem\u001b[0m \u001b[0;34m=\u001b[0m \u001b[0mdatetime\u001b[0m\u001b[0;34m.\u001b[0m\u001b[0mstrptime\u001b[0m\u001b[0;34m(\u001b[0m\u001b[0mitem\u001b[0m\u001b[0;34m.\u001b[0m\u001b[0mreplace\u001b[0m\u001b[0;34m(\u001b[0m\u001b[0;34m','\u001b[0m\u001b[0;34m,\u001b[0m\u001b[0;34m''\u001b[0m\u001b[0;34m)\u001b[0m\u001b[0;34m,\u001b[0m \u001b[0;34m'%b %d %Y'\u001b[0m\u001b[0;34m)\u001b[0m\u001b[0;34m.\u001b[0m\u001b[0mdate\u001b[0m\u001b[0;34m(\u001b[0m\u001b[0;34m)\u001b[0m\u001b[0;34m\u001b[0m\u001b[0m\n\u001b[0m\u001b[1;32m     29\u001b[0m                     \u001b[0mnews\u001b[0m\u001b[0;34m.\u001b[0m\u001b[0mappend\u001b[0m\u001b[0;34m(\u001b[0m\u001b[0;34m(\u001b[0m\u001b[0msymbol\u001b[0m\u001b[0;34m,\u001b[0m\u001b[0mrow\u001b[0m\u001b[0;34m.\u001b[0m\u001b[0mnext_element\u001b[0m\u001b[0;34m,\u001b[0m\u001b[0mitem\u001b[0m\u001b[0;34m)\u001b[0m\u001b[0;34m)\u001b[0m\u001b[0;34m\u001b[0m\u001b[0m\n\u001b[1;32m     30\u001b[0m             \u001b[0;32melse\u001b[0m\u001b[0;34m:\u001b[0m\u001b[0;34m\u001b[0m\u001b[0m\n",
      "\u001b[0;32m/Users/thongbui/anaconda3/envs/py27/lib/python2.7/_strptime.pyc\u001b[0m in \u001b[0;36m_strptime\u001b[0;34m(data_string, format)\u001b[0m\n\u001b[1;32m    330\u001b[0m     \u001b[0;32mif\u001b[0m \u001b[0;32mnot\u001b[0m \u001b[0mfound\u001b[0m\u001b[0;34m:\u001b[0m\u001b[0;34m\u001b[0m\u001b[0m\n\u001b[1;32m    331\u001b[0m         raise ValueError(\"time data %r does not match format %r\" %\n\u001b[0;32m--> 332\u001b[0;31m                          (data_string, format))\n\u001b[0m\u001b[1;32m    333\u001b[0m     \u001b[0;32mif\u001b[0m \u001b[0mlen\u001b[0m\u001b[0;34m(\u001b[0m\u001b[0mdata_string\u001b[0m\u001b[0;34m)\u001b[0m \u001b[0;34m!=\u001b[0m \u001b[0mfound\u001b[0m\u001b[0;34m.\u001b[0m\u001b[0mend\u001b[0m\u001b[0;34m(\u001b[0m\u001b[0;34m)\u001b[0m\u001b[0;34m:\u001b[0m\u001b[0;34m\u001b[0m\u001b[0m\n\u001b[1;32m    334\u001b[0m         raise ValueError(\"unconverted data remains: %s\" %\n",
      "\u001b[0;31mValueError\u001b[0m: time data '32 minutes ago' does not match format '%b %d %Y'"
     ]
    }
   ],
   "source": [
    "enddate = '2017-11-01'\n",
    "news = []\n",
    "for symbol in sp500:\n",
    "    if symbol == 'AAPL':\n",
    "        i = 0\n",
    "        fl = 1\n",
    "        while fl == 1:\n",
    "            url = 'https://finance.google.com/finance/company_news?q=' + symbol +  \\\n",
    "                  '&enddate=' + enddate + '&start=' + str(i * 10) + '&num=10'\n",
    "            x = requests.get(url)\n",
    "            print i\n",
    "            print url\n",
    "            data = x.text\n",
    "            soup = BeautifulSoup(data, 'html.parser')\n",
    "            #print(soup.prettify())\n",
    "            quote = soup.find_all('a', {\"href\" : lambda L: L and L.startswith('http://news')})\n",
    "            if quote:\n",
    "                for row in quote:\n",
    "                    try:\n",
    "                        item = row.parent.findNext('span',attrs={'class': 'date'}).next_element\n",
    "                    except:\n",
    "                        item = news[-1][2]\n",
    "                        #news.append((symbol,row.next_element,news[-1][1]))\n",
    "                    #print item\n",
    "                    if 'hours ago' in str(item):\n",
    "                        item = datetime.now().date()\n",
    "                    else:\n",
    "                        if item <> news[-1][2]:\n",
    "                            item = datetime.strptime(item.replace(',',''), '%b %d %Y').date()\n",
    "                    news.append((symbol,row.next_element,item))\n",
    "            else:\n",
    "                fl = 0\n",
    "            i = i + 1\n",
    "print news "
   ]
  },
  {
   "cell_type": "code",
   "execution_count": null,
   "metadata": {
    "collapsed": false
   },
   "outputs": [],
   "source": [
    "print news"
   ]
  },
  {
   "cell_type": "code",
   "execution_count": null,
   "metadata": {
    "collapsed": true
   },
   "outputs": [],
   "source": []
  }
 ],
 "metadata": {
  "anaconda-cloud": {},
  "kernelspec": {
   "display_name": "Python 2",
   "language": "python",
   "name": "python2"
  },
  "language_info": {
   "codemirror_mode": {
    "name": "ipython",
    "version": 2
   },
   "file_extension": ".py",
   "mimetype": "text/x-python",
   "name": "python",
   "nbconvert_exporter": "python",
   "pygments_lexer": "ipython2",
   "version": "2.7.13"
  }
 },
 "nbformat": 4,
 "nbformat_minor": 2
}
