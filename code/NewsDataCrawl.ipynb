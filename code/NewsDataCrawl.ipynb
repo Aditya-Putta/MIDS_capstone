{
 "cells": [
  {
   "cell_type": "code",
   "execution_count": 35,
   "metadata": {
    "collapsed": false
   },
   "outputs": [],
   "source": [
    "from bs4 import BeautifulSoup\n",
    "import requests\n",
    "from datetime import datetime"
   ]
  },
  {
   "cell_type": "code",
   "execution_count": 36,
   "metadata": {
    "collapsed": true
   },
   "outputs": [],
   "source": [
    "def get_SP500_stocks():\n",
    "    url = \"https://en.wikipedia.org/wiki/List_of_S%26P_500_companies#S.26P_500_Component_Stocks\"\n",
    "    r = requests.get(url)\n",
    "    data = r.text\n",
    "    soup = BeautifulSoup(data, \"html5lib\")\n",
    "\n",
    "    table = soup.find_all('table')[0]\n",
    "    # Exclude header row\n",
    "    rows = table.find_all('tr')[1:]\n",
    "    #print(len(rows))\n",
    "    #print(rows[len(rows)-1])\n",
    "    stocks = []\n",
    "    for row in rows:\n",
    "        cols = row.find_all('td')\n",
    "        stocks.append(cols[0].get_text())\n",
    "\n",
    "    return stocks\n",
    "sp500 = get_SP500_stocks() "
   ]
  },
  {
   "cell_type": "code",
   "execution_count": 68,
   "metadata": {
    "collapsed": false
   },
   "outputs": [
    {
     "name": "stdout",
     "output_type": "stream",
     "text": [
      "0\n",
      "https://finance.google.com/finance/company_news?q=AAPL&enddate=2017-11-01&start=0&num=10\n",
      "1\n",
      "https://finance.google.com/finance/company_news?q=AAPL&enddate=2017-11-01&start=10&num=10\n",
      "2\n",
      "https://finance.google.com/finance/company_news?q=AAPL&enddate=2017-11-01&start=20&num=10\n",
      "3\n",
      "https://finance.google.com/finance/company_news?q=AAPL&enddate=2017-11-01&start=30&num=10\n",
      "4\n",
      "https://finance.google.com/finance/company_news?q=AAPL&enddate=2017-11-01&start=40&num=10\n",
      "5\n",
      "https://finance.google.com/finance/company_news?q=AAPL&enddate=2017-11-01&start=50&num=10\n",
      "6\n",
      "https://finance.google.com/finance/company_news?q=AAPL&enddate=2017-11-01&start=60&num=10\n",
      "7\n",
      "https://finance.google.com/finance/company_news?q=AAPL&enddate=2017-11-01&start=70&num=10\n",
      "[(u'AAPL', u\"Apple, Inc. Could Bring TrueDepth and Face ID to Next Year's iPad\\xa0Pros\", datetime.date(2017, 10, 9)), (u'AAPL', u'\\nApple Inc. (AAPL) iPhone Expectations Still Too High', datetime.date(2017, 10, 7)), (u'AAPL', u\"\\nHow the Next Apple Inc. iPhone Will Help Fill Intel Corp.'s Factories\", datetime.date(2017, 10, 7)), (u'AAPL', u'How Apple Inc. Can Do a Mid-Cycle iPhone X\\xa0Refresh', datetime.date(2017, 10, 7)), (u'AAPL', u'Apple, Inc. Earnings: Mark Your\\xa0Calendar', datetime.date(2017, 10, 5)), (u'AAPL', u\"\\n1 Problem With Apple Inc.'s iPhone Chip Strategy\", datetime.date(2017, 10, 9)), (u'AAPL', u'\\nThe Broad Impact Of The iPhone X', datetime.date(2017, 10, 9)), (u'AAPL', u'3 Stocks to Watch on Monday: Apple Inc. (AAPL), Facebook Inc (FB) and\\xa0...', datetime.date(2017, 10, 9)), (u'AAPL', u'\\nBustling Stocks in Focus: Apple Inc. (NASDAQ:AAPL) and Microsoft Corporation ...', datetime.date(2017, 10, 9)), (u'AAPL', u\"No, Apple Inc. Does Not Slow Down Your iPhone So You'll Replace\\xa0It\", datetime.date(2017, 10, 9)), (u'AAPL', u'\\nStudy: Older Apple Inc. (AAPL) iPhones Not Hobbled By iOS Updates', datetime.date(2017, 10, 6)), (u'AAPL', u\"Apple Inc.'s Touch ID Might Come Back in the Next iPhone X After\\xa0All\", datetime.date(2017, 10, 6)), (u'AAPL', u'\\nKGI: Apple\\'s iPhone \"super cycle\" coming in 2018', datetime.date(2017, 10, 8)), (u'AAPL', u\"\\nWhy Apple Investors Shouldn't Panic Over iPhone X Supply Issues\", datetime.date(2017, 10, 8)), (u'AAPL', u'Why Is Apple Inc. Reporting Its Fourth-Quarter Results So\\xa0Late?', datetime.date(2017, 10, 8)), (u'AAPL', u'Best Buy: Apple Inc. vs. Microsoft Corporation vs. International Business\\xa0...', datetime.date(2017, 10, 4)), (u'AAPL', u'This Apple Inc. MacBook Pro Rumor Is Probably\\xa0False', datetime.date(2017, 10, 5)), (u'AAPL', u'Apple Inc. Reportedly Planning a Huge LCD iPhone for Next\\xa0Year', datetime.date(2017, 10, 1)), (u'AAPL', u'Better Buy: Apple Inc. vs.\\xa0Google', datetime.date(2017, 9, 29)), (u'AAPL', u\"Apple Inc.'s HomePod Will Not Be\\xa0Enough\", datetime.date(2017, 10, 5)), (u'AAPL', u'Apple names former Honeywell executive as new general\\xa0counsel', datetime.date(2017, 10, 6)), (u'AAPL', u'\\nKatherine Adams joins Apple as general counsel and SVP', datetime.date(2017, 10, 1)), (u'AAPL', u'Apple Inc. Blogger May Have Unveiled a Key Detail of a 6.46-Inch iPhone\\xa0X', datetime.date(2017, 10, 1)), (u'AAPL', u\"Apple's Cook Meets Macron in Paris Amid Calls for Tech\\xa0Taxes\", datetime.date(2017, 10, 9)), (u'AAPL', u\"\\nApple's Cook in Paris to Meet Macron Amid Calls for Tech Taxes\", datetime.date(2017, 10, 5)), (u'AAPL', u'6 Years Later, 6 Charts That Show How Far Apple, Inc. Has Come Since Steve\\xa0...', datetime.date(2017, 10, 5)), (u'AAPL', u\"\\nWhy Steve Jobs' Grand Vision for Apple TV Remains Unfulfilled\", datetime.date(2017, 10, 9)), (u'AAPL', u'BofAML: Apple could benefit from Trump tax\\xa0plan', datetime.date(2017, 10, 9)), (u'AAPL', u'\\nHow Tax Reform Could Help Apple', datetime.date(2017, 9, 22)), (u'AAPL', u'Will Apple, Inc. Hit Its Guidance After\\xa0All?', datetime.date(2017, 9, 22)), (u'AAPL', u'\\nHas Apple Flubbed Its September Rollout?', datetime.date(2017, 10, 9)), (u'AAPL', u'\\nTrade of the Day: No Rush to Buy Apple Inc. (AAPL) Stock', datetime.date(2017, 10, 9)), (u'AAPL', u'Digging Up the Facts on Apple Inc.\\xa0(AAPL)', datetime.date(2017, 10, 9)), (u'AAPL', u'\\nFeatured Stock to See: Apple Inc. (AAPL)', datetime.date(2017, 10, 9)), (u'AAPL', u'\\nApple Inc. (NASDAQ:AAPL) Underpriced by 1.2%', datetime.date(2017, 10, 9)), (u'AAPL', u'Apple Inc. (AAPL) Closes 0.35% Up on the Day for October\\xa009', datetime.date(2017, 10, 9)), (u'AAPL', u'Apple Inc. (AAPL) Bulls, Watch\\xa0Out!', datetime.date(2017, 10, 6)), (u'AAPL', u\"Apple Inc.'s Brilliant Cellular Modem\\xa0Strategy\", datetime.date(2017, 9, 18)), (u'AAPL', u'Apple Inc. Reportedly Exploring a Shift Away From Intel Corp. Chips in the\\xa0Mac', datetime.date(2017, 10, 1)), (u'AAPL', u'A Big Surprise From the Apple Inc. iPhone 8\\xa0Teardown', datetime.date(2017, 9, 29)), (u'AAPL', u'\\nApple could ditch Intel chips for future laptops', datetime.date(2017, 10, 2)), (u'AAPL', u'\\nNikkei: Apple plans to switch chips from Intel to ARM', datetime.date(2017, 10, 2)), (u'AAPL', u\"Apple Inc.'s (AAPL) iPhone 8 Battery Issues Are \\u2026 Good\\xa0News?\", datetime.date(2017, 10, 2)), (u'AAPL', u\"\\nApple Inc.'s 3D Touch Tech Might Never Come to the iPad\", datetime.date(2017, 10, 6)), (u'AAPL', u\"\\nApple's Growth May Surprise You\", datetime.date(2017, 10, 6)), (u'AAPL', u\"Friday's Vital Data: MannKind Corporation (MNKD), Apple Inc. (AAPL) and\\xa0...\", datetime.date(2017, 10, 6)), (u'AAPL', u\"Apple Inc.'s Samsung\\xa0Problem\", datetime.date(2017, 9, 21)), (u'AAPL', u'\\nApple Inc. (AAPL) Stock: iPhone X Recap', datetime.date(2017, 9, 15)), (u'AAPL', u'\\nApple: Could October Be Ugly?', datetime.date(2017, 9, 15)), (u'AAPL', u'Did This Apple Inc. Supplier Fail to\\xa0Deliver?', datetime.date(2017, 9, 15)), (u'AAPL', u'1 Big Apple Inc. A11 Bionic Chip Mystery\\xa0Revealed', datetime.date(2017, 9, 28)), (u'AAPL', u'\\nUnderstanding Apple: The Triple-A Advantage', datetime.date(2017, 9, 14)), (u'AAPL', u\"\\n3 Things to Expect From Apple Inc.'s A11X Bionic iPad Pro Chip\", datetime.date(2017, 9, 14)), (u'AAPL', u\"Apple, Inc.'s iPhone X Event: What Analysts Are\\xa0Saying\", datetime.date(2017, 9, 14)), (u'AAPL', u'\\nIn Just 7 Words, Apple CEO Tim Cook Shows Why the Future of Apple Might Be ...', datetime.date(2017, 9, 14)), (u'AAPL', u'\\nApple: The Price Is Right', datetime.date(2017, 9, 14)), (u'AAPL', u'Apple just threw Touch ID under the\\xa0bus', datetime.date(2017, 9, 16)), (u'AAPL', u'Does Intel Corp. Have a Chance of Winning Apple Inc. A-Series\\xa0Business?', datetime.date(2017, 9, 29)), (u'AAPL', u'Why Did Apple Inc. Cancel Its Future 5.28-Inch iPhone\\xa0X?', datetime.date(2017, 9, 25)), (u'AAPL', u'\\nReport: Apple Inc. iPhone X Production Delayed Even Further', datetime.date(2017, 10, 6)), (u'AAPL', u\"\\nApple: Services? Watch? Nope, It's All About iPhone\", datetime.date(2017, 10, 6)), (u'AAPL', u\"Apple Inc.'s HomePod Is the Harbinger of Doom for Other Smart\\xa0Speakers\", datetime.date(2017, 10, 6)), (u'AAPL', u\"Here's Why the Best Is Yet to Come for Apple\\xa0Inc.\", datetime.date(2017, 9, 10)), (u'AAPL', u\"\\nApple Inc. (AAPL) 'Still Has Attractive Upside Potential,' GoPro Inc ...\", datetime.date(2017, 10, 2)), (u'AAPL', u'\\n10 Products Apple Inc. (AAPL) Has Killed', datetime.date(2017, 10, 2)), (u'AAPL', u\"Forget The iPhone, Apple's Artificial Intelligence Is The Real\\xa0Deal\", datetime.date(2017, 10, 2)), (u'AAPL', u'Apple Will Release New Emojis With iOS\\xa011.1', datetime.date(2017, 10, 6)), (u'AAPL', u'\\nApple reveals new emoji coming to iPhone and iPad, including \\u201cI love you\\u201d', datetime.date(2017, 9, 26)), (u'AAPL', u'\\nApple teases hundreds of new emoji, including gender neutral options', datetime.date(2017, 9, 26)), (u'AAPL', u'3 Things I Love About the Apple Inc. iPhone 8\\xa0Plus', datetime.date(2017, 9, 26)), (u'AAPL', u'\\n3 Problems Apple Inc. (AAPL) Stock Faces After the iPhone X Debut', datetime.date(2017, 9, 20)), (u'AAPL', u'\\nUnderstanding Apple: Why The X Will Rule', datetime.date(2017, 9, 20)), (u'AAPL', u'Apple shares drop as new Apple Watch fails to reliably connect for some\\xa0reviewers', datetime.date(2017, 9, 20)), (u'AAPL', u'\\nApple - Buy Now Despite The iPhone X Shipment Timing?', datetime.date(2017, 10, 5)), (u'AAPL', u'\\nApple Watch 3 Is Already Broken', datetime.date(2017, 10, 5)), (u'AAPL', u\"3 Reasons We Should Be Talking More About Apple's\\xa0Cash\", datetime.date(2017, 10, 5)), (u'AAPL', u\"Cirrus Logic: The Impact Of Apple's New\\xa0iPhones\", datetime.date(2017, 10, 9)), (u'AAPL', u'Apple: The Bonanza From AR\\xa0Apps', datetime.date(2017, 10, 2)), (u'AAPL', u'This Time It Matters: Why Apple Is\\xa0Falling', datetime.date(2017, 9, 22)), (u'AAPL', u'How iPhone X TrueDepth Camera Could Boost Apple Inc.\\xa0Stock', datetime.date(2017, 10, 3)), (u'AAPL', u'So, is the iPhone 8 series a\\xa0failure?', datetime.date(2017, 9, 26)), (u'AAPL', u'Apple Inc.\\'s iPhone X Display\\xa0\"Disasters\"', datetime.date(2017, 10, 4)), (u'AAPL', u'Apple Inc. (AAPL) Gets Serious About Other\\xa0Products', datetime.date(2017, 9, 22)), (u'AAPL', u'\\nWhat if Apple Launched a Product and Nobody Showed Up? Welcome to the iPhone ...', datetime.date(2017, 10, 5)), (u'AAPL', u\"\\nApple's Latest Products Get Rare Mixed-Bag Reviews\", datetime.date(2017, 10, 5)), (u'AAPL', u'Apple inches closer to India retail store, iPhone\\xa0unit', datetime.date(2017, 10, 5)), (u'AAPL', u'The Bid For Toshiba - The Apple\\xa0Capitulation', datetime.date(2017, 9, 26)), (u'AAPL', u\"\\nApple Reaches Final Terms for Bain's Toshiba Chip Bid\", datetime.date(2017, 9, 21)), (u'AAPL', u'\\nReport: Drama around Toshiba chip sale continues as KKR tries to coax Apple ...', datetime.date(2017, 9, 21)), (u'AAPL', u'The\\xa0problem', datetime.date(2017, 9, 21)), (u'AAPL', u'Apple TV Is Missing Out On\\xa0Billions', datetime.date(2017, 9, 29)), (u'AAPL', u\"Apple Inc Stock: Will Tim Cook's Gamble Pay\\xa0Off?\", datetime.date(2017, 10, 4)), (u'AAPL', u'Pixel launch will test Google hardware strategy and Apple\\xa0rivalry', datetime.date(2017, 10, 3)), (u'AAPL', u'Apple Inc. (AAPL) Stock: Buy on the\\xa0Pullback?', datetime.date(2017, 9, 28)), (u'AAPL', u'\\nTime To Buy Apple? Maybe Not', datetime.date(2017, 10, 3)), (u'AAPL', u'\\nIs Apple Inc. (AAPL) Stock About To Hit Another Speed Bump?', datetime.date(2017, 10, 3)), (u'AAPL', u'3 More Things I Love About the Apple Inc. iPhone 8\\xa0Plus', datetime.date(2017, 10, 3)), (u'AAPL', u'\\nBrightwire: iPhone X shipment may delay until December', datetime.date(2017, 9, 29)), (u'AAPL', u'Apple ARM-Based MacBooks: The Pros And\\xa0Cons', datetime.date(2017, 9, 29)), (u'AAPL', u\"Reports that Apple's iPhone X launch will be delayed are 'inaccurate':\\xa0Citigroup\", datetime.date(2017, 10, 9)), (u'AAPL', u\"Apple says 'intermittent issues' with many cloud services, inc Apple Music\\xa0...\", datetime.date(2017, 10, 6)), (u'AAPL', u\"Apple's Bruce Sewell: 'I'm Done With Being a\\xa0GC'\", datetime.date(2017, 10, 9)), (u'AAPL', u'Google Releases a Multitude of Devices to Counter Amazon, Apple, and...\\xa0GoPro?', datetime.date(2017, 10, 9)), (u'AAPL', u\"This Taiwan ETF Is a Backdoor Bet on Apple's iPhone\\xa0Suppliers\", datetime.date(2017, 10, 9)), (u'AAPL', u'\\nA Unique Apple ETF Play in Emerging Markets', datetime.date(2017, 10, 9)), (u'AAPL', u'Apple faces fresh lawsuit over former Sony, Nokia\\xa0patents', datetime.date(2017, 10, 9)), (u'AAPL', u'Apple Inc. Allowed Uber To Record iPhone Screen:\\xa0Researchers', datetime.date(2017, 10, 6)), (u'AAPL', u'QUALCOMM, Inc. (QCOM) Stock Is not One to Buy on the\\xa0Dip', datetime.date(2017, 10, 9)), (u'AAPL', u\"Let's Get Complex With Frank's International NV (FI) And Apple Inc.\\xa0(AAPL)\", datetime.date(2017, 10, 9)), (u'AAPL', u\"What's hidden in Apple Inc. (NASDAQ:\\xa0AAPL)?\", datetime.date(2017, 10, 9)), (u'AAPL', u'Why Roku Inc (ROKU) IPO Will Be Different Than Other Recent\\xa0IPOs', datetime.date(2017, 10, 9)), (u'AAPL', u'Vetr Inc. Downgrades Apple Inc. (AAPL) to\\xa0Buy', datetime.date(2017, 10, 8)), (u'AAPL', u'\\nApple Inc. (NASDAQ:AAPL) IPhone X Might Not Be Available Until December Due ...', datetime.date(2017, 10, 9)), (u'AAPL', u'Unbiased Equity Research: Apple Inc. (NASDAQ:AAPL), Synchronoss Technologies\\xa0...', datetime.date(2017, 10, 9)), (u'AAPL', u\"Shedding Some Light on Apple Inc (AAPL)'s\\xa0Technicals\", datetime.date(2017, 10, 9))]\n"
     ]
    }
   ],
   "source": [
    "\n",
    "enddate = '2017-11-01'\n",
    "news = []\n",
    "for symbol in sp500:\n",
    "    if symbol == 'AAPL':\n",
    "        i = 0\n",
    "        fl = 1\n",
    "        while fl == 1:\n",
    "            url = 'https://finance.google.com/finance/company_news?q=' + symbol +  \\\n",
    "                  '&enddate=' + enddate + '&start=' + str(i * 10) + '&num=10'\n",
    "            x = requests.get(url)\n",
    "            print i\n",
    "            print url\n",
    "            data = x.text\n",
    "            soup = BeautifulSoup(data, 'html.parser')\n",
    "            #print(soup.prettify())\n",
    "            quote = soup.find_all('a', {\"href\" : lambda L: L and L.startswith('http://news')})\n",
    "            if quote:\n",
    "                for row in quote:\n",
    "                    try:\n",
    "                        item = row.parent.findNext('span',attrs={'class': 'date'}).next_element\n",
    "                    except:\n",
    "                        item = news[-1][2]\n",
    "                        #news.append((symbol,row.next_element,news[-1][1]))\n",
    "                    #print item\n",
    "                    if 'hours ago' in str(item):\n",
    "                        item = datetime.now().date()\n",
    "                    else:\n",
    "                        if item <> news[-1][2]:\n",
    "                            item = datetime.strptime(item.replace(',',''), '%b %d %Y').date()\n",
    "                    news.append((symbol,row.next_element,item))\n",
    "            else:\n",
    "                fl = 0\n",
    "            i = i + 1\n",
    "print news "
   ]
  },
  {
   "cell_type": "code",
   "execution_count": 49,
   "metadata": {
    "collapsed": false
   },
   "outputs": [
    {
     "name": "stdout",
     "output_type": "stream",
     "text": [
      "[(u'AAPL', u\"Apple, Inc. Could Bring TrueDepth and Face ID to Next Year's iPad\\xa0Pros\", datetime.date(2017, 10, 9)), (u'AAPL', u'\\nApple Inc. (AAPL) iPhone Expectations Still Too High', datetime.date(2017, 10, 7)), (u'AAPL', u\"\\nHow the Next Apple Inc. iPhone Will Help Fill Intel Corp.'s Factories\", datetime.date(2017, 10, 7)), (u'AAPL', u'How Apple Inc. Can Do a Mid-Cycle iPhone X\\xa0Refresh', datetime.date(2017, 10, 7)), (u'AAPL', u'Apple, Inc. Earnings: Mark Your\\xa0Calendar', datetime.date(2017, 10, 5)), (u'AAPL', u\"\\n1 Problem With Apple Inc.'s iPhone Chip Strategy\", datetime.date(2017, 10, 9)), (u'AAPL', u'\\nThe Broad Impact Of The iPhone X', datetime.date(2017, 10, 9)), (u'AAPL', u'3 Stocks to Watch on Monday: Apple Inc. (AAPL), Facebook Inc (FB) and\\xa0...', datetime.date(2017, 10, 9)), (u'AAPL', u'\\nBustling Stocks in Focus: Apple Inc. (NASDAQ:AAPL) and Microsoft Corporation ...', datetime.date(2017, 10, 9)), (u'AAPL', u\"No, Apple Inc. Does Not Slow Down Your iPhone So You'll Replace\\xa0It\", datetime.date(2017, 10, 9)), (u'AAPL', u'\\nStudy: Older Apple Inc. (AAPL) iPhones Not Hobbled By iOS Updates', datetime.date(2017, 10, 6)), (u'AAPL', u\"Apple Inc.'s Touch ID Might Come Back in the Next iPhone X After\\xa0All\", datetime.date(2017, 10, 6)), (u'AAPL', u'\\nKGI: Apple\\'s iPhone \"super cycle\" coming in 2018', datetime.date(2017, 10, 8)), (u'AAPL', u\"\\nWhy Apple Investors Shouldn't Panic Over iPhone X Supply Issues\", datetime.date(2017, 10, 8)), (u'AAPL', u'Why Is Apple Inc. Reporting Its Fourth-Quarter Results So\\xa0Late?', datetime.date(2017, 10, 8)), (u'AAPL', u'Best Buy: Apple Inc. vs. Microsoft Corporation vs. International Business\\xa0...', datetime.date(2017, 10, 4)), (u'AAPL', u'This Apple Inc. MacBook Pro Rumor Is Probably\\xa0False', datetime.date(2017, 10, 5)), (u'AAPL', u'Apple Inc. Reportedly Planning a Huge LCD iPhone for Next\\xa0Year', datetime.date(2017, 10, 1)), (u'AAPL', u\"Apple, Inc. Could Bring TrueDepth and Face ID to Next Year's iPad\\xa0Pros\", datetime.date(2017, 10, 9)), (u'AAPL', u'\\nApple Inc. (AAPL) iPhone Expectations Still Too High', datetime.date(2017, 10, 7)), (u'AAPL', u\"\\nHow the Next Apple Inc. iPhone Will Help Fill Intel Corp.'s Factories\", datetime.date(2017, 10, 7)), (u'AAPL', u'How Apple Inc. Can Do a Mid-Cycle iPhone X\\xa0Refresh', datetime.date(2017, 10, 7)), (u'AAPL', u'Apple, Inc. Earnings: Mark Your\\xa0Calendar', datetime.date(2017, 10, 5)), (u'AAPL', u\"\\n1 Problem With Apple Inc.'s iPhone Chip Strategy\", datetime.date(2017, 10, 9)), (u'AAPL', u'\\nThe Broad Impact Of The iPhone X', datetime.date(2017, 10, 9)), (u'AAPL', u'3 Stocks to Watch on Monday: Apple Inc. (AAPL), Facebook Inc (FB) and\\xa0...', datetime.date(2017, 10, 9)), (u'AAPL', u'\\nBustling Stocks in Focus: Apple Inc. (NASDAQ:AAPL) and Microsoft Corporation ...', datetime.date(2017, 10, 9)), (u'AAPL', u\"No, Apple Inc. Does Not Slow Down Your iPhone So You'll Replace\\xa0It\", datetime.date(2017, 10, 9)), (u'AAPL', u'\\nStudy: Older Apple Inc. (AAPL) iPhones Not Hobbled By iOS Updates', datetime.date(2017, 10, 6)), (u'AAPL', u\"Apple Inc.'s Touch ID Might Come Back in the Next iPhone X After\\xa0All\", datetime.date(2017, 10, 6)), (u'AAPL', u'\\nKGI: Apple\\'s iPhone \"super cycle\" coming in 2018', datetime.date(2017, 10, 8)), (u'AAPL', u\"\\nWhy Apple Investors Shouldn't Panic Over iPhone X Supply Issues\", datetime.date(2017, 10, 8)), (u'AAPL', u'Why Is Apple Inc. Reporting Its Fourth-Quarter Results So\\xa0Late?', datetime.date(2017, 10, 8)), (u'AAPL', u'Best Buy: Apple Inc. vs. Microsoft Corporation vs. International Business\\xa0...', datetime.date(2017, 10, 4)), (u'AAPL', u'This Apple Inc. MacBook Pro Rumor Is Probably\\xa0False', datetime.date(2017, 10, 5)), (u'AAPL', u'Apple Inc. Reportedly Planning a Huge LCD iPhone for Next\\xa0Year', datetime.date(2017, 10, 1)), (u'AAPL', u\"Apple, Inc. Could Bring TrueDepth and Face ID to Next Year's iPad\\xa0Pros\", datetime.date(2017, 10, 9)), (u'AAPL', u'\\nApple Inc. (AAPL) iPhone Expectations Still Too High', datetime.date(2017, 10, 7)), (u'AAPL', u\"\\nHow the Next Apple Inc. iPhone Will Help Fill Intel Corp.'s Factories\", datetime.date(2017, 10, 7)), (u'AAPL', u'How Apple Inc. Can Do a Mid-Cycle iPhone X\\xa0Refresh', datetime.date(2017, 10, 7)), (u'AAPL', u'Apple, Inc. Earnings: Mark Your\\xa0Calendar', datetime.date(2017, 10, 5)), (u'AAPL', u\"\\n1 Problem With Apple Inc.'s iPhone Chip Strategy\", datetime.date(2017, 10, 9)), (u'AAPL', u'\\nThe Broad Impact Of The iPhone X', datetime.date(2017, 10, 9)), (u'AAPL', u'3 Stocks to Watch on Monday: Apple Inc. (AAPL), Facebook Inc (FB) and\\xa0...', datetime.date(2017, 10, 9)), (u'AAPL', u'\\nBustling Stocks in Focus: Apple Inc. (NASDAQ:AAPL) and Microsoft Corporation ...', datetime.date(2017, 10, 9)), (u'AAPL', u\"No, Apple Inc. Does Not Slow Down Your iPhone So You'll Replace\\xa0It\", datetime.date(2017, 10, 9)), (u'AAPL', u'\\nStudy: Older Apple Inc. (AAPL) iPhones Not Hobbled By iOS Updates', datetime.date(2017, 10, 6)), (u'AAPL', u\"Apple Inc.'s Touch ID Might Come Back in the Next iPhone X After\\xa0All\", datetime.date(2017, 10, 6)), (u'AAPL', u'\\nKGI: Apple\\'s iPhone \"super cycle\" coming in 2018', datetime.date(2017, 10, 8)), (u'AAPL', u\"\\nWhy Apple Investors Shouldn't Panic Over iPhone X Supply Issues\", datetime.date(2017, 10, 8)), (u'AAPL', u'Why Is Apple Inc. Reporting Its Fourth-Quarter Results So\\xa0Late?', datetime.date(2017, 10, 8)), (u'AAPL', u'Best Buy: Apple Inc. vs. Microsoft Corporation vs. International Business\\xa0...', datetime.date(2017, 10, 4)), (u'AAPL', u'This Apple Inc. MacBook Pro Rumor Is Probably\\xa0False', datetime.date(2017, 10, 5)), (u'AAPL', u'Apple Inc. Reportedly Planning a Huge LCD iPhone for Next\\xa0Year', datetime.date(2017, 10, 1)), (u'AAPL', u\"Apple, Inc. Could Bring TrueDepth and Face ID to Next Year's iPad\\xa0Pros\", datetime.date(2017, 10, 9)), (u'AAPL', u'\\nApple Inc. (AAPL) iPhone Expectations Still Too High', datetime.date(2017, 10, 7)), (u'AAPL', u\"\\nHow the Next Apple Inc. iPhone Will Help Fill Intel Corp.'s Factories\", datetime.date(2017, 10, 7)), (u'AAPL', u'How Apple Inc. Can Do a Mid-Cycle iPhone X\\xa0Refresh', datetime.date(2017, 10, 7)), (u'AAPL', u'Apple, Inc. Earnings: Mark Your\\xa0Calendar', datetime.date(2017, 10, 5)), (u'AAPL', u\"\\n1 Problem With Apple Inc.'s iPhone Chip Strategy\", datetime.date(2017, 10, 9)), (u'AAPL', u'\\nThe Broad Impact Of The iPhone X', datetime.date(2017, 10, 9)), (u'AAPL', u'3 Stocks to Watch on Monday: Apple Inc. (AAPL), Facebook Inc (FB) and\\xa0...', datetime.date(2017, 10, 9)), (u'AAPL', u'\\nBustling Stocks in Focus: Apple Inc. (NASDAQ:AAPL) and Microsoft Corporation ...', datetime.date(2017, 10, 9)), (u'AAPL', u\"No, Apple Inc. Does Not Slow Down Your iPhone So You'll Replace\\xa0It\", datetime.date(2017, 10, 9)), (u'AAPL', u'\\nStudy: Older Apple Inc. (AAPL) iPhones Not Hobbled By iOS Updates', datetime.date(2017, 10, 6)), (u'AAPL', u\"Apple Inc.'s Touch ID Might Come Back in the Next iPhone X After\\xa0All\", datetime.date(2017, 10, 6)), (u'AAPL', u'\\nKGI: Apple\\'s iPhone \"super cycle\" coming in 2018', datetime.date(2017, 10, 8)), (u'AAPL', u\"\\nWhy Apple Investors Shouldn't Panic Over iPhone X Supply Issues\", datetime.date(2017, 10, 8)), (u'AAPL', u'Why Is Apple Inc. Reporting Its Fourth-Quarter Results So\\xa0Late?', datetime.date(2017, 10, 8)), (u'AAPL', u'Best Buy: Apple Inc. vs. Microsoft Corporation vs. International Business\\xa0...', datetime.date(2017, 10, 4)), (u'AAPL', u'This Apple Inc. MacBook Pro Rumor Is Probably\\xa0False', datetime.date(2017, 10, 5)), (u'AAPL', u'Apple Inc. Reportedly Planning a Huge LCD iPhone for Next\\xa0Year', datetime.date(2017, 10, 1)), (u'AAPL', u\"Apple, Inc. Could Bring TrueDepth and Face ID to Next Year's iPad\\xa0Pros\", datetime.date(2017, 10, 9)), (u'AAPL', u'\\nApple Inc. (AAPL) iPhone Expectations Still Too High', datetime.date(2017, 10, 7)), (u'AAPL', u\"\\nHow the Next Apple Inc. iPhone Will Help Fill Intel Corp.'s Factories\", datetime.date(2017, 10, 7)), (u'AAPL', u'How Apple Inc. Can Do a Mid-Cycle iPhone X\\xa0Refresh', datetime.date(2017, 10, 7)), (u'AAPL', u'Apple, Inc. Earnings: Mark Your\\xa0Calendar', datetime.date(2017, 10, 5)), (u'AAPL', u\"\\n1 Problem With Apple Inc.'s iPhone Chip Strategy\", datetime.date(2017, 10, 9)), (u'AAPL', u'\\nThe Broad Impact Of The iPhone X', datetime.date(2017, 10, 9)), (u'AAPL', u'3 Stocks to Watch on Monday: Apple Inc. (AAPL), Facebook Inc (FB) and\\xa0...', datetime.date(2017, 10, 9)), (u'AAPL', u'\\nBustling Stocks in Focus: Apple Inc. (NASDAQ:AAPL) and Microsoft Corporation ...', datetime.date(2017, 10, 9)), (u'AAPL', u\"No, Apple Inc. Does Not Slow Down Your iPhone So You'll Replace\\xa0It\", datetime.date(2017, 10, 9)), (u'AAPL', u'\\nStudy: Older Apple Inc. (AAPL) iPhones Not Hobbled By iOS Updates', datetime.date(2017, 10, 6)), (u'AAPL', u\"Apple Inc.'s Touch ID Might Come Back in the Next iPhone X After\\xa0All\", datetime.date(2017, 10, 6)), (u'AAPL', u'\\nKGI: Apple\\'s iPhone \"super cycle\" coming in 2018', datetime.date(2017, 10, 8)), (u'AAPL', u\"\\nWhy Apple Investors Shouldn't Panic Over iPhone X Supply Issues\", datetime.date(2017, 10, 8)), (u'AAPL', u'Why Is Apple Inc. Reporting Its Fourth-Quarter Results So\\xa0Late?', datetime.date(2017, 10, 8)), (u'AAPL', u'Best Buy: Apple Inc. vs. Microsoft Corporation vs. International Business\\xa0...', datetime.date(2017, 10, 4)), (u'AAPL', u'This Apple Inc. MacBook Pro Rumor Is Probably\\xa0False', datetime.date(2017, 10, 5)), (u'AAPL', u'Apple Inc. Reportedly Planning a Huge LCD iPhone for Next\\xa0Year', datetime.date(2017, 10, 1))]\n"
     ]
    }
   ],
   "source": [
    "print news"
   ]
  },
  {
   "cell_type": "code",
   "execution_count": null,
   "metadata": {
    "collapsed": true
   },
   "outputs": [],
   "source": []
  }
 ],
 "metadata": {
  "anaconda-cloud": {},
  "kernelspec": {
   "display_name": "Python [default]",
   "language": "python",
   "name": "python2"
  },
  "language_info": {
   "codemirror_mode": {
    "name": "ipython",
    "version": 2
   },
   "file_extension": ".py",
   "mimetype": "text/x-python",
   "name": "python",
   "nbconvert_exporter": "python",
   "pygments_lexer": "ipython2",
   "version": "2.7.12"
  }
 },
 "nbformat": 4,
 "nbformat_minor": 2
}
