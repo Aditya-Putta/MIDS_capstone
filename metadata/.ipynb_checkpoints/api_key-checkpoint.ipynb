{
 "cells": [
  {
   "cell_type": "code",
   "execution_count": 3,
   "metadata": {
    "collapsed": false
   },
   "outputs": [
    {
     "ename": "SyntaxError",
     "evalue": "invalid syntax (<ipython-input-3-9b5f78299824>, line 3)",
     "output_type": "error",
     "traceback": [
      "\u001b[0;36m  File \u001b[0;32m\"<ipython-input-3-9b5f78299824>\"\u001b[0;36m, line \u001b[0;32m3\u001b[0m\n\u001b[0;31m    INTRINIO_USERNAME=\"2e3c1abfc9dbf1c826a8ba9288d4982a\"                                                                                   [IPKernelApp] ERROR | No such comm target registered: jupyter.wINTRINIO_PASSWORD=\"181323521a3ccc427357f37043c17b2b\"\u001b[0m\n\u001b[0m                                                                                                                                                             ^\u001b[0m\n\u001b[0;31mSyntaxError\u001b[0m\u001b[0;31m:\u001b[0m invalid syntax\n"
     ]
    }
   ],
   "source": [
    "#!/usr/bin/python2\n",
    "QUANDL_API_KEY=\"xR-TQ5sb4NnAa2AtX1TG\"\n",
    "INTRINIO_USERNAME=\"2e3c1abfc9dbf1c826a8ba9288d4982a\"                                         \n",
    "#intrinio.client.username = INTRINIO_USER_NAME\n",
    "#intrinio.client.password = INTRINIO_PASSWORD"
   ]
  },
  {
   "cell_type": "code",
   "execution_count": null,
   "metadata": {
    "collapsed": true
   },
   "outputs": [],
   "source": []
  }
 ],
 "metadata": {
  "kernelspec": {
   "display_name": "Python 2",
   "language": "python",
   "name": "python2"
  },
  "language_info": {
   "codemirror_mode": {
    "name": "ipython",
    "version": 2
   },
   "file_extension": ".py",
   "mimetype": "text/x-python",
   "name": "python",
   "nbconvert_exporter": "python",
   "pygments_lexer": "ipython2",
   "version": "2.7.10"
  }
 },
 "nbformat": 4,
 "nbformat_minor": 2
}
