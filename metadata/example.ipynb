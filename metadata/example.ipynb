{
 "cells": [
  {
   "cell_type": "code",
   "execution_count": 10,
   "metadata": {
    "collapsed": true,
    "scrolled": true
   },
   "outputs": [],
   "source": [
    "import md_intrinio_client\n",
    "import pandas as pd\n",
    "import json\n",
    "\n",
    "from md_intrinio_client import intrinio_get_company_metadata\n",
    "from md_intrinio_client import intrinio_get_company_financials\n",
    "from md_intrinio_client import intrinio_get_company_financials_csv\n",
    "from md_intrinio_client import get_SandP_metadata\n",
    "from md_intrinio_client import test_SandP_metadata\n",
    "\n",
    "\n",
    "import sys\n",
    "import json\n",
    "import finsymbols\n",
    "import ast"
   ]
  },
  {
   "cell_type": "code",
   "execution_count": 11,
   "metadata": {
    "collapsed": true,
    "scrolled": true
   },
   "outputs": [],
   "source": [
    "sys.path.append('/home/skillachie/Desktop/')\n",
    "from finsymbols import symbols"
   ]
  },
  {
   "cell_type": "code",
   "execution_count": 12,
   "metadata": {
    "collapsed": true,
    "scrolled": true
   },
   "outputs": [],
   "source": [
    "def generate_financial_data():\n",
    "    SandP500 = {}\n",
    "    companyList = []\n",
    "    with open(\"SandP500_symbols.txt\", \"r\") as fr:\n",
    "            for line in fr:\n",
    "                    company = json.loads(line)\n",
    "                    SandP500[company[\"symbol\"]] = line\n",
    "                    companyList.append(company[\"symbol\"])\n",
    "\n",
    "\n",
    "    #print(\"Testing company financials api via CSV\")\n",
    "\n",
    "    years = [2010, 2011, 2012, 2013, 2014, 2015, 2016, 2017]\n",
    "    #companies = [\"GE\", \"CSCO\", \"GOOG\", \"FACE\"]\n",
    "\n",
    "    bigDict = {}\n",
    "\n",
    "    for company in companyList:\n",
    "            bigDict[company] = {}\n",
    "            for year in years:\n",
    "                    bigDict[company][year] = {}\n",
    "                    data = intrinio_get_company_financials_csv(company, str(year), 'FY')\n",
    "\n",
    "                    financials = list(data)\n",
    "\n",
    "                    #print (financials)\n",
    "                    breakdown = ''.join(financials)\n",
    "                    #print(breakdown)\n",
    "                    newdata = breakdown.split(\"\\n\")\n",
    "\n",
    "                    for item in newdata:\n",
    "                            splititem = item.split(\",\")\n",
    "                            if len(splititem) < 2:\n",
    "                                    continue\n",
    "                            bigDict[company][year][splititem[0]]=  {}\n",
    "                            bigDict[company][year][splititem[0]]= splititem[1]\n",
    "\n",
    "    with open(\"./data/\"+\"Financials.json\", 'w') as file:\n",
    "            file.write(json.dumps(bigDict))"
   ]
  },
  {
   "cell_type": "code",
   "execution_count": 13,
   "metadata": {
    "collapsed": true,
    "scrolled": true
   },
   "outputs": [],
   "source": [
    "#generate_financial_data()"
   ]
  },
  {
   "cell_type": "code",
   "execution_count": 46,
   "metadata": {
    "collapsed": false,
    "scrolled": true
   },
   "outputs": [],
   "source": [
    "def get_company_financial_data_all(symbol):\n",
    "    companyDict = {}\n",
    "    with open(\"./data/Financials.json\", \"r\") as fp:\n",
    "        #companyDict = json.load(fp)\n",
    "        for line in fp:\n",
    "            companyDict = ast.literal_eval(line)\n",
    "\n",
    "        for ticker in companyDict.keys():\n",
    "            if ticker == symbol:\n",
    "                print symbol, companyDict[symbol]\n",
    "            "
   ]
  },
  {
   "cell_type": "code",
   "execution_count": 47,
   "metadata": {
    "collapsed": false,
    "scrolled": false
   },
   "outputs": [
    {
     "name": "stdout",
     "output_type": "stream",
     "text": [
      "<type 'str'>\n",
      "<type 'dict'>\n",
      "GE {'2015': {'basiceps': '-0.62', 'netincomediscontinued': '-7495000000.0', 'weightedavedilutedsharesos': '9944000000.0', 'incometaxexpense': '6485000000.0', 'netincometocommon': '-6126000000.0', 'cashdividendspershare': '0.92', 'totaloperatingincome': '9421000000.0', 'weightedavebasicsharesos': '9944000000.0', 'basicdilutedeps': '-0.62', 'operatingcostofrevenue': '82693000000.0', 'netincometononcontrollinginterest': '332000000.0', 'totalotherincome': '-1236000000.0', 'totalrevenue': '115158000000.0', 'dilutedeps': '-0.61', 'othercostofrevenue': '2605000000.0', 'otherincome': '2227000000.0', 'TAG': 'VALUE', 'totalgrossprofit': '29860000000.0', 'totalpretaxincome': '8186000000.0', 'totaloperatingexpenses': '20439000000.0', 'totalcostofrevenue': '85298000000.0', 'weightedavebasicdilutedsharesos': '9944000000.0', 'RESULT_COUNT: 26': 'PAGE_SIZE: 10000', 'sgaexpense': '20439000000.0', 'operatingrevenue': '115158000000.0', 'netincomecontinuing': '1701000000.0', 'netincome': '-5795000000.0', 'totalinterestexpense': '3463000000.0'}, '2014': {'basiceps': '1.51', 'netincomediscontinued': '5855000000.0', 'weightedavedilutedsharesos': '10045000000.0', 'incometaxexpense': '773000000.0', 'netincometocommon': '15233000000.0', 'cashdividendspershare': '0.89', 'totaloperatingincome': '12209000000.0', 'weightedavebasicsharesos': '10045000000.0', 'basicdilutedeps': '1.51', 'operatingcostofrevenue': '83704000000.0', 'netincometononcontrollinginterest': '112000000.0', 'totalotherincome': '-1945000000.0', 'totalrevenue': '116406000000.0', 'dilutedeps': '1.5', 'othercostofrevenue': '2530000000.0', 'otherincome': '778000000.0', 'TAG': 'VALUE', 'totalgrossprofit': '30172000000.0', 'totalpretaxincome': '10263000000.0', 'totaloperatingexpenses': '17963000000.0', 'totalcostofrevenue': '86234000000.0', 'weightedavebasicdilutedsharesos': '10045000000.0', 'RESULT_COUNT: 26': 'PAGE_SIZE: 10000', 'sgaexpense': '17963000000.0', 'operatingrevenue': '116406000000.0', 'netincomecontinuing': '9490000000.0', 'netincome': '15345000000.0', 'totalinterestexpense': '2723000000.0'}, '2017': {'TAG': 'VALUE', 'RESULT_COUNT: 0': 'PAGE_SIZE: 10000'}, '2016': {'basiceps': '0.9', 'netincomediscontinued': '-954000000.0', 'weightedavedilutedsharesos': '9922500000.0', 'incometaxexpense': '-464000000.0', 'netincometocommon': '8831000000.0', 'cashdividendspershare': '0.93', 'totaloperatingincome': '10048000000.0', 'weightedavebasicsharesos': '9812200000.0', 'basicdilutedeps': '0.9', 'operatingcostofrevenue': '87483000000.0', 'netincometononcontrollinginterest': '-291000000.0', 'totalotherincome': '-1020000000.0', 'totalrevenue': '119687000000.0', 'dilutedeps': '0.89', 'othercostofrevenue': '2797000000.0', 'otherincome': '4005000000.0', 'TAG': 'VALUE', 'totalgrossprofit': '29407000000.0', 'totalpretaxincome': '9030000000.0', 'totaloperatingexpenses': '19359000000.0', 'totalcostofrevenue': '90280000000.0', 'weightedavebasicdilutedsharesos': '9812200000.0', 'RESULT_COUNT: 26': 'PAGE_SIZE: 10000', 'sgaexpense': '19359000000.0', 'operatingrevenue': '119687000000.0', 'netincomecontinuing': '9494000000.0', 'netincome': '8540000000.0', 'totalinterestexpense': '5025000000.0'}, '2011': {'basiceps': '1.24', 'netincomediscontinued': '29000000.0', 'weightedavedilutedsharesos': '10591000000.0', 'incometaxexpense': '5745000000.0', 'netincometocommon': '13120000000.0', 'cashdividendspershare': '0.61', 'totaloperatingincome': '29518000000.0', 'weightedavebasicsharesos': '10591000000.0', 'basicdilutedeps': '1.24', 'operatingcostofrevenue': '68278000000.0', 'netincometononcontrollinginterest': '292000000.0', 'totalotherincome': '-9359000000.0', 'totalrevenue': '141479000000.0', 'dilutedeps': '1.23', 'othercostofrevenue': '6842000000.0', 'otherincome': '5063000000.0', 'TAG': 'VALUE', 'totalgrossprofit': '66359000000.0', 'totalpretaxincome': '20159000000.0', 'totaloperatingexpenses': '36841000000.0', 'totalcostofrevenue': '75120000000.0', 'weightedavebasicdilutedsharesos': '10591000000.0', 'RESULT_COUNT: 27': 'PAGE_SIZE: 10000', 'sgaexpense': '36841000000.0', 'operatingrevenue': '141479000000.0', 'netincomecontinuing': '14414000000.0', 'netincome': '14443000000.0', 'totalinterestexpense': '14422000000.0', 'preferreddividends': '1031000000.0'}, '2010': {'basiceps': '1.06', 'netincomediscontinued': '-969000000.0', 'weightedavedilutedsharesos': '10661000000.0', 'incometaxexpense': '1039000000.0', 'netincometocommon': '11344000000.0', 'cashdividendspershare': '0.46', 'totaloperatingincome': '28573000000.0', 'weightedavebasicsharesos': '10661000000.0', 'basicdilutedeps': '1.06', 'operatingcostofrevenue': '71713000000.0', 'netincometononcontrollinginterest': '535000000.0', 'totalotherincome': '-14386000000.0', 'totalrevenue': '148416000000.0', 'dilutedeps': '1.06', 'othercostofrevenue': '10097000000.0', 'otherincome': '1151000000.0', 'TAG': 'VALUE', 'totalgrossprofit': '66606000000.0', 'totalpretaxincome': '14187000000.0', 'totaloperatingexpenses': '38033000000.0', 'totalcostofrevenue': '81810000000.0', 'weightedavebasicdilutedsharesos': '10661000000.0', 'RESULT_COUNT: 27': 'PAGE_SIZE: 10000', 'sgaexpense': '38033000000.0', 'operatingrevenue': '148416000000.0', 'netincomecontinuing': '13148000000.0', 'netincome': '12179000000.0', 'totalinterestexpense': '15537000000.0', 'preferreddividends': '300000000.0'}, '2013': {'basiceps': '1.28', 'netincomediscontinued': '5475000000.0', 'weightedavedilutedsharesos': '10222000000.0', 'incometaxexpense': '1219000000.0', 'netincometocommon': '13057000000.0', 'cashdividendspershare': '0.79', 'totaloperatingincome': '8862000000.0', 'weightedavebasicsharesos': '10222000000.0', 'basicdilutedeps': '1.28', 'operatingcostofrevenue': '79841000000.0', 'netincometononcontrollinginterest': '298000000.0', 'totalotherincome': '237000000.0', 'totalrevenue': '110137000000.0', 'dilutedeps': '1.27', 'othercostofrevenue': '2661000000.0', 'otherincome': '3107000000.0', 'TAG': 'VALUE', 'totalgrossprofit': '27635000000.0', 'totalpretaxincome': '9100000000.0', 'totaloperatingexpenses': '18773000000.0', 'totalcostofrevenue': '82502000000.0', 'weightedavebasicdilutedsharesos': '10222000000.0', 'RESULT_COUNT: 26': 'PAGE_SIZE: 10000', 'sgaexpense': '18773000000.0', 'operatingrevenue': '110137000000.0', 'netincomecontinuing': '7881000000.0', 'netincome': '13355000000.0', 'totalinterestexpense': '2870000000.0'}, '2012': {'basiceps': '1.29', 'netincomediscontinued': '-983000000.0', 'weightedavedilutedsharesos': '10523000000.0', 'incometaxexpense': '2534000000.0', 'netincometocommon': '13641000000.0', 'cashdividendspershare': '0.7', 'totaloperatingincome': '27225000000.0', 'weightedavebasicsharesos': '10523000000.0', 'basicdilutedeps': '1.29', 'operatingcostofrevenue': '74310000000.0', 'netincometononcontrollinginterest': '223000000.0', 'totalotherincome': '-9844000000.0', 'totalrevenue': '144121000000.0', 'dilutedeps': '1.29', 'othercostofrevenue': '6689000000.0', 'otherincome': '2563000000.0', 'TAG': 'VALUE', 'totalgrossprofit': '63122000000.0', 'totalpretaxincome': '17381000000.0', 'totaloperatingexpenses': '35897000000.0', 'totalcostofrevenue': '80999000000.0', 'weightedavebasicdilutedsharesos': '10523000000.0', 'RESULT_COUNT: 27': 'PAGE_SIZE: 10000', 'sgaexpense': '35897000000.0', 'operatingrevenue': '144121000000.0', 'netincomecontinuing': '14847000000.0', 'netincome': '13864000000.0', 'totalinterestexpense': '12407000000.0', 'preferreddividends': '0.0'}}\n"
     ]
    }
   ],
   "source": [
    "get_company_financial_data_all(\"GE\")"
   ]
  },
  {
   "cell_type": "code",
   "execution_count": 48,
   "metadata": {
    "collapsed": true
   },
   "outputs": [],
   "source": [
    "def get_company_financial_data_by_year(symbol, year):\n",
    "    companyDict = {}\n",
    "    with open(\"./data/Financials.json\", \"r\") as fp:\n",
    "        #companyDict = json.load(fp)\n",
    "        for line in fp:\n",
    "            companyDict = ast.literal_eval(line)\n",
    "\n",
    "        for ticker in companyDict.keys():\n",
    "            if ticker == symbol:\n",
    "                print symbol, companyDict[symbol][year]\n",
    "            "
   ]
  },
  {
   "cell_type": "code",
   "execution_count": 51,
   "metadata": {
    "collapsed": false,
    "scrolled": true
   },
   "outputs": [
    {
     "name": "stdout",
     "output_type": "stream",
     "text": [
      "GE {'basiceps': '1.51', 'netincomediscontinued': '5855000000.0', 'weightedavedilutedsharesos': '10045000000.0', 'incometaxexpense': '773000000.0', 'netincometocommon': '15233000000.0', 'cashdividendspershare': '0.89', 'totaloperatingincome': '12209000000.0', 'weightedavebasicsharesos': '10045000000.0', 'basicdilutedeps': '1.51', 'operatingcostofrevenue': '83704000000.0', 'netincometononcontrollinginterest': '112000000.0', 'totalotherincome': '-1945000000.0', 'totalrevenue': '116406000000.0', 'dilutedeps': '1.5', 'othercostofrevenue': '2530000000.0', 'otherincome': '778000000.0', 'TAG': 'VALUE', 'totalgrossprofit': '30172000000.0', 'totalpretaxincome': '10263000000.0', 'totaloperatingexpenses': '17963000000.0', 'totalcostofrevenue': '86234000000.0', 'weightedavebasicdilutedsharesos': '10045000000.0', 'RESULT_COUNT: 26': 'PAGE_SIZE: 10000', 'sgaexpense': '17963000000.0', 'operatingrevenue': '116406000000.0', 'netincomecontinuing': '9490000000.0', 'netincome': '15345000000.0', 'totalinterestexpense': '2723000000.0'}\n"
     ]
    }
   ],
   "source": [
    "get_company_financial_data_by_year(\"GE\", \"2014\")"
   ]
  },
  {
   "cell_type": "code",
   "execution_count": 52,
   "metadata": {
    "collapsed": true
   },
   "outputs": [],
   "source": [
    "def get_company_financial_data_by_year_and_attr(symbol, year, attribute):\n",
    "    companyDict = {}\n",
    "    with open(\"./data/Financials.json\", \"r\") as fp:\n",
    "        #companyDict = json.load(fp)\n",
    "        for line in fp:\n",
    "            companyDict = ast.literal_eval(line)\n",
    "\n",
    "        for ticker in companyDict.keys():\n",
    "            if ticker == symbol:\n",
    "                print symbol, companyDict[symbol][year][attribute]\n",
    "            "
   ]
  },
  {
   "cell_type": "code",
   "execution_count": 53,
   "metadata": {
    "collapsed": false
   },
   "outputs": [
    {
     "name": "stdout",
     "output_type": "stream",
     "text": [
      "GE 1.51\n"
     ]
    }
   ],
   "source": [
    "get_company_financial_data_by_year_and_attr(\"GE\", \"2014\", \"basiceps\")"
   ]
  },
  {
   "cell_type": "code",
   "execution_count": null,
   "metadata": {
    "collapsed": true
   },
   "outputs": [],
   "source": []
  }
 ],
 "metadata": {
  "kernelspec": {
   "display_name": "Python 2",
   "language": "python",
   "name": "python2"
  },
  "language_info": {
   "codemirror_mode": {
    "name": "ipython",
    "version": 2
   },
   "file_extension": ".py",
   "mimetype": "text/x-python",
   "name": "python",
   "nbconvert_exporter": "python",
   "pygments_lexer": "ipython2",
   "version": "2.7.10"
  }
 },
 "nbformat": 4,
 "nbformat_minor": 2
}
