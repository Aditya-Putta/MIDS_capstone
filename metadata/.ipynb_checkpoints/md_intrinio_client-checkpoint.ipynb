{
 "cells": [
  {
   "cell_type": "code",
   "execution_count": 11,
   "metadata": {
    "collapsed": false
   },
   "outputs": [],
   "source": [
    "from api_key import INTRINIO_USERNAME\n",
    "from api_key import INTRINIO_PASSWORD                 \n",
    "import pandas as pd\n",
    "import sys\n",
    "import urllib2\n",
    "import json\n",
    "import requests"
   ]
  },
  {
   "cell_type": "code",
   "execution_count": 12,
   "metadata": {
    "collapsed": false
   },
   "outputs": [],
   "source": [
    "#print (INTRINIO_USERNAME)\n",
    "#print(INTRINIO_PASSWORD)"
   ]
  },
  {
   "cell_type": "code",
   "execution_count": 13,
   "metadata": {
    "collapsed": false
   },
   "outputs": [],
   "source": [
    "def intrinio_get_company_metadata(symbol):\n",
    "        # Get the latest FY Income Statement for \"symbol\"\n",
    "\n",
    "        cleanedupdata = {}\n",
    "        base_url = \"https://api.intrinio.com\"\n",
    "\n",
    "        request_url = base_url + \"/companies\"\n",
    "        query_params = {\n",
    "                'ticker': symbol\n",
    "        }\n",
    "\n",
    "        response = requests.get(request_url, params=query_params, auth=(INTRINIO_USERNAME, INTRINIO_PASSWORD))\n",
    "        if response.status_code == 401: print(\"Unauthorized! Check your username and password.\"); exit()\n",
    "\n",
    "        data = response.json()\n",
    "        return(json.dumps(data, indent=1, sort_keys=True))\n",
    "\n",
    "#data = intrinio_get_company_metadata('GE')\n",
    "#print(data)"
   ]
  },
  {
   "cell_type": "markdown",
   "metadata": {},
   "source": [
    "['AASYMBOL', 'ABYEAR', 'ACPeriod', 'basicdilutedeps', 'basiceps', 'cashdividendspershare', 'dilutedeps', 'incometaxexpense', 'netincome', 'netincomecontinuing', 'netincomediscontinued', 'netincometocommon', 'netincometononcontrollinginterest', 'operatingcostofrevenue', 'operatingrevenue', 'othercostofrevenue', 'otherincome', 'preferreddividends', 'sgaexpense', 'totalcostofrevenue', 'totalgrossprofit', 'totalinterestexpense', 'totaloperatingexpenses', 'totaloperatingincome', 'totalotherincome', 'totalpretaxincome', 'totalrevenue', 'weightedavebasicdilutedsharesos', 'weightedavebasicsharesos', 'weightedavedilutedsharesos']"
   ]
  },
  {
   "cell_type": "code",
   "execution_count": 14,
   "metadata": {
    "collapsed": false
   },
   "outputs": [],
   "source": [
    "def cleanupdata(cleanedupdata):\n",
    "    newData = {}\n",
    "    newData['AASYMBOL'] = cleanedupdata['AASYMBOL']\n",
    "    newData['ABYEAR'] = cleanedupdata['ABYEAR']\n",
    "    newData['ACPeriod'] = cleanedupdata['ACPeriod']\n",
    "    newData['basicdilutedeps'] = cleanedupdata.get('basicdilutedeps', 0.0)\n",
    "    newData['basiceps'] = cleanedupdata.get('basiceps', 0.0)\n",
    "    \n",
    "    newData['cashdividendspershare'] = cleanedupdata.get('cashdividendspershare', 0.0)\n",
    "    newData['dilutedeps'] = cleanedupdata.get('dilutedeps', 0.0)\n",
    "    newData['incometaxexpense'] = cleanedupdata.get('incometaxexpense', 0.0)\n",
    "    newData['netincome'] = cleanedupdata.get('netincome', 0.0)\n",
    "    newData['netincomecontinuing'] = cleanedupdata.get('netincomecontinuing', 0.0)\n",
    "    \n",
    "    newData['netincomediscontinued'] = cleanedupdata.get('netincomediscontinued', 0.0)\n",
    "    newData['netincometocommon'] = cleanedupdata.get('netincometocommon', 0.0)\n",
    "    newData['netincometononcontrollinginterest'] = cleanedupdata.get('netincometononcontrollinginterest', 0.0)\n",
    "    newData['operatingcostofrevenue'] = cleanedupdata.get('operatingcostofrevenue', 0.0)\n",
    "    newData['operatingrevenue'] = cleanedupdata.get('operatingrevenue', 0.0)\n",
    "    \n",
    "    newData['othercostofrevenue'] = cleanedupdata.get('othercostofrevenue', 0.0)\n",
    "    newData['otherincome'] = cleanedupdata.get('otherincome', 0.0)\n",
    "    newData['preferreddividends'] = cleanedupdata.get('preferreddividends', 0.0)\n",
    "    newData['sgaexpense'] = cleanedupdata.get('sgaexpense', 0.0)\n",
    "    newData['totalcostofrevenue'] = cleanedupdata.get('totalcostofrevenue', 0.0)\n",
    "    \n",
    "    newData['totalgrossprofit'] = cleanedupdata.get('totalgrossprofit', 0.0)\n",
    "    newData['totalinterestexpense'] = cleanedupdata.get('totalinterestexpense', 0.0)\n",
    "    newData['totaloperatingexpenses'] = cleanedupdata.get('totaloperatingexpenses', 0.0)\n",
    "    newData['totaloperatingincome'] = cleanedupdata.get('totaloperatingincome', 0.0)\n",
    "    newData['totalotherincome'] = cleanedupdata.get('totalotherincome', 0.0)\n",
    "    \n",
    "    newData['totalpretaxincome'] = cleanedupdata.get('totalpretaxincome', 0.0)\n",
    "    newData['totalrevenue'] = cleanedupdata.get('totalrevenue', 0.0)\n",
    "    newData['weightedavebasicdilutedsharesos'] = cleanedupdata.get('weightedavebasicdilutedsharesos', 0.0)\n",
    "    newData['weightedavebasicsharesos'] = cleanedupdata.get('weightedavebasicsharesos', 0.0)\n",
    "    newData['weightedavedilutedsharesos'] = cleanedupdata.get('weightedavedilutedsharesos', 0.0)\n",
    "    \n",
    "    #newData[] = cleanedupdata.get(, 0.0)\n",
    "    return newData"
   ]
  },
  {
   "cell_type": "code",
   "execution_count": 15,
   "metadata": {
    "collapsed": false
   },
   "outputs": [],
   "source": [
    "def intrinio_get_company_financials(symbol, year, quarter):\n",
    "        # Get the latest FY Income Statement for \"symbol\"\n",
    "        # 'type': 'FY'\n",
    "        cleanedupdata = {}\n",
    "        base_url = \"https://api.intrinio.com\"\n",
    "        request_url = base_url + \"/financials/standardized\"\n",
    "        query_params = {\n",
    "                'ticker': symbol,\n",
    "                'statement': 'income_statement',\n",
    "                'fiscal_year' : str(year),\n",
    "                'fiscal_period' : quarter\n",
    "        }\n",
    "\n",
    "        response = requests.get(request_url, params=query_params, auth=(INTRINIO_USERNAME, INTRINIO_PASSWORD))\n",
    "        if response.status_code == 401: print(\"Unauthorized! Check your username and password.\"); exit()\n",
    "\n",
    "        if response.status_code == 429:\n",
    "            print(\"API query limit reached\")\n",
    "            return\n",
    "        data = response.json()['data']\n",
    "\n",
    "        #print(data['basicdilutedeps'])\n",
    "        for row in data:\n",
    "                tag = row['tag']\n",
    "                value = row['value']\n",
    "                cleanedupdata[\"AASYMBOL\"] = symbol\n",
    "                cleanedupdata[\"ABYEAR\"] = year\n",
    "                cleanedupdata[\"ACPeriod\"] = quarter\n",
    "                cleanedupdata[tag] = value\n",
    "                #print(tag + \": \" + str(value))\n",
    "#         for k, v in xx.items():\n",
    "#             print(k, v)\n",
    "        datalist=[]\n",
    "        attr = []\n",
    "        cleanedupdata = cleanupdata(cleanedupdata)\n",
    "        for key, value in sorted(cleanedupdata.items()):\n",
    "            datalist.append(str(value))\n",
    "            attr.append(str(key))\n",
    "        #return (json.dumps(cleanedupdata, indent=1, sort_keys=True))\n",
    "        #print(datalist)\n",
    "        #print(\"{}\".format(\"\".join(datalist)))\n",
    "        #return(\",\".join(datalist))\n",
    "        return(datalist, attr)\n",
    "#data = intrinio_get_company_financials('GE', '2010', 'FY')"
   ]
  },
  {
   "cell_type": "code",
   "execution_count": 16,
   "metadata": {
    "collapsed": false
   },
   "outputs": [
    {
     "name": "stdout",
     "output_type": "stream",
     "text": [
      "['GE', '2014', 'Q1', '0.3', '0.3', '0.22', '0.3', '619000000.0', '2952000000.0', '2700000000.0', '252000000.0', '2999000000.0', '-47000000.0', '18522000000.0', '33352000000.0', '1604000000.0', '196000000.0', '0.0', '7962000000.0', '20126000000.0', '13226000000.0', '2141000000.0', '7962000000.0', '5264000000.0', '-1945000000.0', '3319000000.0', '33352000000.0', '10045000000.0', '10045000000.0', '10045000000.0']\n",
      "30\n",
      "30\n",
      "['AASYMBOL', 'ABYEAR', 'ACPeriod', 'basicdilutedeps', 'basiceps', 'cashdividendspershare', 'dilutedeps', 'incometaxexpense', 'netincome', 'netincomecontinuing', 'netincomediscontinued', 'netincometocommon', 'netincometononcontrollinginterest', 'operatingcostofrevenue', 'operatingrevenue', 'othercostofrevenue', 'otherincome', 'preferreddividends', 'sgaexpense', 'totalcostofrevenue', 'totalgrossprofit', 'totalinterestexpense', 'totaloperatingexpenses', 'totaloperatingincome', 'totalotherincome', 'totalpretaxincome', 'totalrevenue', 'weightedavebasicdilutedsharesos', 'weightedavebasicsharesos', 'weightedavedilutedsharesos']\n"
     ]
    }
   ],
   "source": [
    "data, attr = intrinio_get_company_financials(\"GE\", \"2014\", \"Q1\")\n",
    "print(len(data))\n",
    "print(len(attr))\n",
    "print(attr)"
   ]
  },
  {
   "cell_type": "code",
   "execution_count": 17,
   "metadata": {
    "collapsed": false
   },
   "outputs": [
    {
     "name": "stdout",
     "output_type": "stream",
     "text": [
      "['GE', '2014', 'Q2', '0.35', '0.35', '0.0', '0.35', '192000000.0', '3545000000.0', '2884000000.0', '661000000.0', '3545000000.0', '0.0', '20006000000.0', '31922000000.0', '1606000000.0', '338000000.0', '0.0', '6273000000.0', '21612000000.0', '10310000000.0', '1299000000.0', '6273000000.0', '4037000000.0', '-961000000.0', '3076000000.0', '31922000000.0', '10031000000.0', '10031000000.0', '10031000000.0']\n",
      "30\n",
      "30\n",
      "['AASYMBOL', 'ABYEAR', 'ACPeriod', 'basicdilutedeps', 'basiceps', 'cashdividendspershare', 'dilutedeps', 'incometaxexpense', 'netincome', 'netincomecontinuing', 'netincomediscontinued', 'netincometocommon', 'netincometononcontrollinginterest', 'operatingcostofrevenue', 'operatingrevenue', 'othercostofrevenue', 'otherincome', 'preferreddividends', 'sgaexpense', 'totalcostofrevenue', 'totalgrossprofit', 'totalinterestexpense', 'totaloperatingexpenses', 'totaloperatingincome', 'totalotherincome', 'totalpretaxincome', 'totalrevenue', 'weightedavebasicdilutedsharesos', 'weightedavebasicsharesos', 'weightedavedilutedsharesos']\n"
     ]
    }
   ],
   "source": [
    "data, attr = intrinio_get_company_financials(\"GE\", \"2014\", \"Q2\")\n",
    "print(len(data))\n",
    "print(len(attr))\n",
    "print(attr)"
   ]
  },
  {
   "cell_type": "code",
   "execution_count": 18,
   "metadata": {
    "collapsed": false
   },
   "outputs": [
    {
     "name": "stdout",
     "output_type": "stream",
     "text": [
      "['GE', '2014', 'Q3', '0.35', '0.35', '0.22', '0.35', '401000000.0', '3509000000.0', '2803000000.0', '706000000.0', '3537000000.0', '-28000000.0', '19740000000.0', '31849000000.0', '1520000000.0', '258000000.0', '0.0', '6318000000.0', '21260000000.0', '10589000000.0', '1325000000.0', '6318000000.0', '4271000000.0', '-1067000000.0', '3204000000.0', '31849000000.0', '10039000000.0', '10039000000.0', '10039000000.0']\n",
      "30\n",
      "30\n",
      "['AASYMBOL', 'ABYEAR', 'ACPeriod', 'basicdilutedeps', 'basiceps', 'cashdividendspershare', 'dilutedeps', 'incometaxexpense', 'netincome', 'netincomecontinuing', 'netincomediscontinued', 'netincometocommon', 'netincometononcontrollinginterest', 'operatingcostofrevenue', 'operatingrevenue', 'othercostofrevenue', 'otherincome', 'preferreddividends', 'sgaexpense', 'totalcostofrevenue', 'totalgrossprofit', 'totalinterestexpense', 'totaloperatingexpenses', 'totaloperatingincome', 'totalotherincome', 'totalpretaxincome', 'totalrevenue', 'weightedavebasicdilutedsharesos', 'weightedavebasicsharesos', 'weightedavedilutedsharesos']\n"
     ]
    }
   ],
   "source": [
    "data, attr = intrinio_get_company_financials(\"GE\", \"2014\", \"Q3\")\n",
    "print(len(data))\n",
    "print(len(attr))\n",
    "print(attr)"
   ]
  },
  {
   "cell_type": "code",
   "execution_count": 19,
   "metadata": {
    "collapsed": false
   },
   "outputs": [
    {
     "name": "stdout",
     "output_type": "stream",
     "text": [
      "['GE', '2014', 'Q4', '0.51', '0.51', '0.45', '0.5', '-439000000.0', '5339000000.0', '1103000000.0', '4236000000.0', '5152000000.0', '187000000.0', '25436000000.0', '19283000000.0', '-2200000000.0', '-14000000.0', '0.0', '-2590000000.0', '23236000000.0', '-3953000000.0', '-2042000000.0', '-2590000000.0', '-1363000000.0', '2028000000.0', '664000000.0', '19283000000.0', '10045000000.0', '10045000000.0', '10045000000.0']\n",
      "30\n",
      "30\n",
      "['AASYMBOL', 'ABYEAR', 'ACPeriod', 'basicdilutedeps', 'basiceps', 'cashdividendspershare', 'dilutedeps', 'incometaxexpense', 'netincome', 'netincomecontinuing', 'netincomediscontinued', 'netincometocommon', 'netincometononcontrollinginterest', 'operatingcostofrevenue', 'operatingrevenue', 'othercostofrevenue', 'otherincome', 'preferreddividends', 'sgaexpense', 'totalcostofrevenue', 'totalgrossprofit', 'totalinterestexpense', 'totaloperatingexpenses', 'totaloperatingincome', 'totalotherincome', 'totalpretaxincome', 'totalrevenue', 'weightedavebasicdilutedsharesos', 'weightedavebasicsharesos', 'weightedavedilutedsharesos']\n"
     ]
    }
   ],
   "source": [
    "data, attr = intrinio_get_company_financials(\"GE\", \"2014\", \"Q4\")\n",
    "print(len(data))\n",
    "print(len(attr))\n",
    "print(attr)"
   ]
  },
  {
   "cell_type": "code",
   "execution_count": 20,
   "metadata": {
    "collapsed": false
   },
   "outputs": [
    {
     "name": "stdout",
     "output_type": "stream",
     "text": [
      "['GE', '2014', 'FY', '1.51', '1.51', '0.89', '1.5', '773000000.0', '15345000000.0', '9490000000.0', '5855000000.0', '15233000000.0', '112000000.0', '83704000000.0', '1.16406e+11', '2530000000.0', '778000000.0', '0.0', '17963000000.0', '86234000000.0', '30172000000.0', '2723000000.0', '17963000000.0', '12209000000.0', '-1945000000.0', '10263000000.0', '1.16406e+11', '10045000000.0', '10045000000.0', '10045000000.0']\n",
      "30\n",
      "30\n",
      "['AASYMBOL', 'ABYEAR', 'ACPeriod', 'basicdilutedeps', 'basiceps', 'cashdividendspershare', 'dilutedeps', 'incometaxexpense', 'netincome', 'netincomecontinuing', 'netincomediscontinued', 'netincometocommon', 'netincometononcontrollinginterest', 'operatingcostofrevenue', 'operatingrevenue', 'othercostofrevenue', 'otherincome', 'preferreddividends', 'sgaexpense', 'totalcostofrevenue', 'totalgrossprofit', 'totalinterestexpense', 'totaloperatingexpenses', 'totaloperatingincome', 'totalotherincome', 'totalpretaxincome', 'totalrevenue', 'weightedavebasicdilutedsharesos', 'weightedavebasicsharesos', 'weightedavedilutedsharesos']\n"
     ]
    }
   ],
   "source": [
    "data, attr = intrinio_get_company_financials(\"GE\", \"2014\", \"FY\")\n",
    "print(len(data))\n",
    "print(len(attr))\n",
    "print(attr)"
   ]
  },
  {
   "cell_type": "code",
   "execution_count": 85,
   "metadata": {
    "collapsed": true
   },
   "outputs": [],
   "source": [
    "import csv\n",
    "\n",
    "def intrinio_get_company_financials_csv(symbol, year, quarter):\n",
    "        # Get the latest FY Income Statement for \"symbol\"\n",
    "\n",
    "        cleanedupdata = {}\n",
    "        base_url = \"https://api.intrinio.com\"\n",
    "        request_url = base_url + \"/financials/standardized.csv?\"\n",
    "        query_params = {\n",
    "                'ticker': symbol,\n",
    "                'statement': 'income_statement',\n",
    "                'fiscal_year' : str(year),\n",
    "                'fiscal_period' : str(quarter)\n",
    "        }\n",
    "\n",
    "        response = requests.get(request_url, params=query_params, auth=(INTRINIO_USERNAME, INTRINIO_PASSWORD))\n",
    "        if response.status_code == 401: print(\"Unauthorized! Check your username and password.\"); exit()\n",
    "        print(json.dumps(cleanedupdata, indent=1, sort_keys=True))\n",
    "        return(response)"
   ]
  },
  {
   "cell_type": "code",
   "execution_count": 58,
   "metadata": {
    "collapsed": false
   },
   "outputs": [
    {
     "name": "stdout",
     "output_type": "stream",
     "text": [
      "{}\n",
      "{}\n"
     ]
    },
    {
     "data": {
      "text/plain": [
       "<Response [200]>"
      ]
     },
     "execution_count": 58,
     "metadata": {},
     "output_type": "execute_result"
    }
   ],
   "source": [
    "intrinio_get_company_financials_csv(\"GE\", \"2006\", \"Q1\")\n",
    "intrinio_get_company_financials_csv(\"GE\", \"2006\", \"Q2\")\n",
    "#intrinio_get_company_financials_csv(\"GE\", \"2006\", \"Q3\")\n",
    "#intrinio_get_company_financials_csv(\"GE\", \"2006\", \"Q4\")\n",
    "#intrinio_get_company_financials_csv(\"GE\", \"2006\", \"FY\")"
   ]
  },
  {
   "cell_type": "code",
   "execution_count": 8,
   "metadata": {
    "collapsed": false
   },
   "outputs": [],
   "source": [
    "import sys\n",
    "import json\n",
    "import finsymbols\n",
    "\n",
    "sys.path.append('/home/skillachie/Desktop/')\n",
    "from finsymbols import symbols\n",
    "\n",
    "sp500 = symbols.get_sp500_symbols()\n",
    "companies = json.dumps(sp500, indent=1, sort_keys=True)\n"
   ]
  },
  {
   "cell_type": "code",
   "execution_count": 9,
   "metadata": {
    "collapsed": false
   },
   "outputs": [],
   "source": [
    "# import os\n",
    "# count = 0\n",
    "# def get_SandP_metadata():\n",
    "#     if not os.path.exists(\"data\"):\n",
    "#         os.makedirs(\"data\")\n",
    "#     for entry in sp500:\n",
    "#         datafileName = \"./data/data_\" + str(entry[\"symbol\"])\n",
    "#         with open(datafileName, \"w\") as outfile:\n",
    "#             data = intrinio_get_company_metadata(entry[\"symbol\"])\n",
    "#             json.dump(data, outfile, indent=1, sort_keys=True)\n",
    "#             count += 1"
   ]
  },
  {
   "cell_type": "code",
   "execution_count": 10,
   "metadata": {
    "collapsed": false
   },
   "outputs": [],
   "source": [
    "# # Reading data back\n",
    "# with open('data/data_MMM', 'r') as f:\n",
    "#      data = json.load(f)\n",
    "\n",
    "# print(data)"
   ]
  },
  {
   "cell_type": "code",
   "execution_count": 11,
   "metadata": {
    "collapsed": false
   },
   "outputs": [],
   "source": [
    "#!jupyter nbconvert --to script md_intrinio_client.ipynb"
   ]
  },
  {
   "cell_type": "code",
   "execution_count": 12,
   "metadata": {
    "collapsed": true
   },
   "outputs": [],
   "source": [
    "import os\n",
    "def get_SandP_metadata():\n",
    "    count = 0\n",
    "    if not os.path.exists(\"data\"):\n",
    "        os.makedirs(\"data\")\n",
    "    for entry in sp500:\n",
    "        datafileName = \"./data/data_\" + str(entry[\"symbol\"]+\".json\")\n",
    "        with open(datafileName, \"w\") as outfile:\n",
    "            data = intrinio_get_company_metadata(entry[\"symbol\"])\n",
    "            json.dump(data, outfile, indent=1, sort_keys=True)\n",
    "            count += 1\n",
    "\n",
    "\n",
    "# Reading data back\n",
    "def test_SandP_metadata():\n",
    "        with open('data/data_MMM.json', 'r') as f:\n",
    "                data = json.load(f)\n",
    "\n",
    "        print(data)\n",
    "\n"
   ]
  },
  {
   "cell_type": "code",
   "execution_count": null,
   "metadata": {
    "collapsed": true
   },
   "outputs": [],
   "source": []
  }
 ],
 "metadata": {
  "kernelspec": {
   "display_name": "Python 2",
   "language": "python",
   "name": "python2"
  },
  "language_info": {
   "codemirror_mode": {
    "name": "ipython",
    "version": 2
   },
   "file_extension": ".py",
   "mimetype": "text/x-python",
   "name": "python",
   "nbconvert_exporter": "python",
   "pygments_lexer": "ipython2",
   "version": "2.7.10"
  }
 },
 "nbformat": 4,
 "nbformat_minor": 2
}
