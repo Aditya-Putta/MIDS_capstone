{
 "cells": [
  {
   "cell_type": "code",
   "execution_count": 79,
   "metadata": {
    "collapsed": false
   },
   "outputs": [],
   "source": [
    "from api_key import INTRINIO_USERNAME\n",
    "from api_key import INTRINIO_PASSWORD                 \n",
    "import pandas as pd\n",
    "import sys\n",
    "import urllib2\n",
    "import json\n",
    "import requests"
   ]
  },
  {
   "cell_type": "code",
   "execution_count": 80,
   "metadata": {
    "collapsed": false
   },
   "outputs": [],
   "source": [
    "#print (INTRINIO_USERNAME)\n",
    "#print(INTRINIO_PASSWORD)"
   ]
  },
  {
   "cell_type": "code",
   "execution_count": 81,
   "metadata": {
    "collapsed": false
   },
   "outputs": [],
   "source": [
    "def intrinio_get_company_metadata(symbol):\n",
    "        # Get the latest FY Income Statement for \"symbol\"\n",
    "\n",
    "        cleanedupdata = {}\n",
    "        base_url = \"https://api.intrinio.com\"\n",
    "\n",
    "        request_url = base_url + \"/companies\"\n",
    "        query_params = {\n",
    "                'ticker': symbol\n",
    "        }\n",
    "\n",
    "        response = requests.get(request_url, params=query_params, auth=(INTRINIO_USERNAME, INTRINIO_PASSWORD))\n",
    "        if response.status_code == 401: print(\"Unauthorized! Check your username and password.\"); exit()\n",
    "\n",
    "        data = response.json()\n",
    "        return(json.dumps(data, indent=1, sort_keys=True))\n",
    "\n",
    "#data = intrinio_get_company_metadata('GE')\n",
    "#print(data)"
   ]
  },
  {
   "cell_type": "code",
   "execution_count": 82,
   "metadata": {
    "collapsed": false
   },
   "outputs": [],
   "source": [
    "def intrinio_get_company_financials(symbol, year, quarter):\n",
    "        # Get the latest FY Income Statement for \"symbol\"\n",
    "        # 'type': 'FY'\n",
    "        cleanedupdata = {}\n",
    "        base_url = \"https://api.intrinio.com\"\n",
    "        request_url = base_url + \"/financials/standardized\"\n",
    "        query_params = {\n",
    "                'ticker': symbol,\n",
    "                'statement': 'income_statement',\n",
    "                'fiscal_year' : str(year),\n",
    "                'fiscal_period' : quarter\n",
    "        }\n",
    "\n",
    "        response = requests.get(request_url, params=query_params, auth=(INTRINIO_USERNAME, INTRINIO_PASSWORD))\n",
    "        if response.status_code == 401: print(\"Unauthorized! Check your username and password.\"); exit()\n",
    "\n",
    "        if response.status_code == 429:\n",
    "            print(\"API query limit reached\")\n",
    "            return\n",
    "        data = response.json()['data']\n",
    "\n",
    "        #print(data['basicdilutedeps'])\n",
    "        for row in data:\n",
    "                tag = row['tag']\n",
    "                value = row['value']\n",
    "                cleanedupdata[\"AASYMBOL\"] = symbol\n",
    "                cleanedupdata[\"ABYEAR\"] = year\n",
    "                cleanedupdata[\"ACPeriod\"] = quarter\n",
    "                cleanedupdata[tag] = value\n",
    "                #print(tag + \": \" + str(value))\n",
    "#         for k, v in xx.items():\n",
    "#             print(k, v)\n",
    "        datalist=[]\n",
    "        for key, value in sorted(cleanedupdata.items()):\n",
    "            datalist.append(str(value))\n",
    "        \n",
    "        #return (json.dumps(cleanedupdata, indent=1, sort_keys=True))\n",
    "        print(datalist)\n",
    "        #print(\"{}\".format(\"\".join(datalist)))\n",
    "        #return(\",\".join(datalist))\n",
    "        return(datalist)\n",
    "#data = intrinio_get_company_financials('GE', '2010', 'FY')"
   ]
  },
  {
   "cell_type": "code",
   "execution_count": 83,
   "metadata": {
    "collapsed": false
   },
   "outputs": [
    {
     "name": "stdout",
     "output_type": "stream",
     "text": [
      "['GE', '2014', 'Q3', '0.35', '0.35', '0.22', '0.35', '401000000.0', '3509000000.0', '2803000000.0', '706000000.0', '3537000000.0', '-28000000.0', '19740000000.0', '31849000000.0', '1520000000.0', '258000000.0', '0.0', '6318000000.0', '21260000000.0', '10589000000.0', '1325000000.0', '6318000000.0', '4271000000.0', '-1067000000.0', '3204000000.0', '31849000000.0', '10039000000.0', '10039000000.0', '10039000000.0']\n",
      "GE2014Q30.350.350.220.35401000000.03509000000.02803000000.0706000000.03537000000.0-28000000.019740000000.031849000000.01520000000.0258000000.00.06318000000.021260000000.010589000000.01325000000.06318000000.04271000000.0-1067000000.03204000000.031849000000.010039000000.010039000000.010039000000.0\n"
     ]
    },
    {
     "data": {
      "text/plain": [
       "'GE,2014,Q3,0.35,0.35,0.22,0.35,401000000.0,3509000000.0,2803000000.0,706000000.0,3537000000.0,-28000000.0,19740000000.0,31849000000.0,1520000000.0,258000000.0,0.0,6318000000.0,21260000000.0,10589000000.0,1325000000.0,6318000000.0,4271000000.0,-1067000000.0,3204000000.0,31849000000.0,10039000000.0,10039000000.0,10039000000.0'"
      ]
     },
     "execution_count": 83,
     "metadata": {},
     "output_type": "execute_result"
    }
   ],
   "source": [
    "intrinio_get_company_financials(\"GE\", \"2014\", \"Q3\")"
   ]
  },
  {
   "cell_type": "code",
   "execution_count": 84,
   "metadata": {
    "collapsed": false
   },
   "outputs": [
    {
     "name": "stdout",
     "output_type": "stream",
     "text": [
      "['GE', '2014', 'Q4', '0.51', '0.51', '0.45', '0.5', '-439000000.0', '5339000000.0', '1103000000.0', '4236000000.0', '5152000000.0', '187000000.0', '25436000000.0', '19283000000.0', '-2200000000.0', '-14000000.0', '-2590000000.0', '23236000000.0', '-3953000000.0', '-2042000000.0', '-2590000000.0', '-1363000000.0', '2028000000.0', '664000000.0', '19283000000.0', '10045000000.0', '10045000000.0', '10045000000.0']\n",
      "GE2014Q40.510.510.450.5-439000000.05339000000.01103000000.04236000000.05152000000.0187000000.025436000000.019283000000.0-2200000000.0-14000000.0-2590000000.023236000000.0-3953000000.0-2042000000.0-2590000000.0-1363000000.02028000000.0664000000.019283000000.010045000000.010045000000.010045000000.0\n"
     ]
    },
    {
     "data": {
      "text/plain": [
       "'GE,2014,Q4,0.51,0.51,0.45,0.5,-439000000.0,5339000000.0,1103000000.0,4236000000.0,5152000000.0,187000000.0,25436000000.0,19283000000.0,-2200000000.0,-14000000.0,-2590000000.0,23236000000.0,-3953000000.0,-2042000000.0,-2590000000.0,-1363000000.0,2028000000.0,664000000.0,19283000000.0,10045000000.0,10045000000.0,10045000000.0'"
      ]
     },
     "execution_count": 84,
     "metadata": {},
     "output_type": "execute_result"
    }
   ],
   "source": [
    "\n",
    "intrinio_get_company_financials(\"GE\", \"2014\", \"Q4\")"
   ]
  },
  {
   "cell_type": "code",
   "execution_count": 85,
   "metadata": {
    "collapsed": true
   },
   "outputs": [],
   "source": [
    "import csv\n",
    "\n",
    "def intrinio_get_company_financials_csv(symbol, year, quarter):\n",
    "        # Get the latest FY Income Statement for \"symbol\"\n",
    "\n",
    "        cleanedupdata = {}\n",
    "        base_url = \"https://api.intrinio.com\"\n",
    "        request_url = base_url + \"/financials/standardized.csv?\"\n",
    "        query_params = {\n",
    "                'ticker': symbol,\n",
    "                'statement': 'income_statement',\n",
    "                'fiscal_year' : str(year),\n",
    "                'fiscal_period' : str(quarter)\n",
    "        }\n",
    "\n",
    "        response = requests.get(request_url, params=query_params, auth=(INTRINIO_USERNAME, INTRINIO_PASSWORD))\n",
    "        if response.status_code == 401: print(\"Unauthorized! Check your username and password.\"); exit()\n",
    "        print(json.dumps(cleanedupdata, indent=1, sort_keys=True))\n",
    "        return(response)"
   ]
  },
  {
   "cell_type": "code",
   "execution_count": 58,
   "metadata": {
    "collapsed": false
   },
   "outputs": [
    {
     "name": "stdout",
     "output_type": "stream",
     "text": [
      "{}\n",
      "{}\n"
     ]
    },
    {
     "data": {
      "text/plain": [
       "<Response [200]>"
      ]
     },
     "execution_count": 58,
     "metadata": {},
     "output_type": "execute_result"
    }
   ],
   "source": [
    "intrinio_get_company_financials_csv(\"GE\", \"2006\", \"Q1\")\n",
    "intrinio_get_company_financials_csv(\"GE\", \"2006\", \"Q2\")\n",
    "#intrinio_get_company_financials_csv(\"GE\", \"2006\", \"Q3\")\n",
    "#intrinio_get_company_financials_csv(\"GE\", \"2006\", \"Q4\")\n",
    "#intrinio_get_company_financials_csv(\"GE\", \"2006\", \"FY\")"
   ]
  },
  {
   "cell_type": "code",
   "execution_count": 8,
   "metadata": {
    "collapsed": false
   },
   "outputs": [],
   "source": [
    "import sys\n",
    "import json\n",
    "import finsymbols\n",
    "\n",
    "sys.path.append('/home/skillachie/Desktop/')\n",
    "from finsymbols import symbols\n",
    "\n",
    "sp500 = symbols.get_sp500_symbols()\n",
    "companies = json.dumps(sp500, indent=1, sort_keys=True)\n"
   ]
  },
  {
   "cell_type": "code",
   "execution_count": 9,
   "metadata": {
    "collapsed": false
   },
   "outputs": [],
   "source": [
    "# import os\n",
    "# count = 0\n",
    "# def get_SandP_metadata():\n",
    "#     if not os.path.exists(\"data\"):\n",
    "#         os.makedirs(\"data\")\n",
    "#     for entry in sp500:\n",
    "#         datafileName = \"./data/data_\" + str(entry[\"symbol\"])\n",
    "#         with open(datafileName, \"w\") as outfile:\n",
    "#             data = intrinio_get_company_metadata(entry[\"symbol\"])\n",
    "#             json.dump(data, outfile, indent=1, sort_keys=True)\n",
    "#             count += 1"
   ]
  },
  {
   "cell_type": "code",
   "execution_count": 10,
   "metadata": {
    "collapsed": false
   },
   "outputs": [],
   "source": [
    "# # Reading data back\n",
    "# with open('data/data_MMM', 'r') as f:\n",
    "#      data = json.load(f)\n",
    "\n",
    "# print(data)"
   ]
  },
  {
   "cell_type": "code",
   "execution_count": 11,
   "metadata": {
    "collapsed": false
   },
   "outputs": [],
   "source": [
    "#!jupyter nbconvert --to script md_intrinio_client.ipynb"
   ]
  },
  {
   "cell_type": "code",
   "execution_count": 12,
   "metadata": {
    "collapsed": true
   },
   "outputs": [],
   "source": [
    "import os\n",
    "def get_SandP_metadata():\n",
    "    count = 0\n",
    "    if not os.path.exists(\"data\"):\n",
    "        os.makedirs(\"data\")\n",
    "    for entry in sp500:\n",
    "        datafileName = \"./data/data_\" + str(entry[\"symbol\"]+\".json\")\n",
    "        with open(datafileName, \"w\") as outfile:\n",
    "            data = intrinio_get_company_metadata(entry[\"symbol\"])\n",
    "            json.dump(data, outfile, indent=1, sort_keys=True)\n",
    "            count += 1\n",
    "\n",
    "\n",
    "# Reading data back\n",
    "def test_SandP_metadata():\n",
    "        with open('data/data_MMM.json', 'r') as f:\n",
    "                data = json.load(f)\n",
    "\n",
    "        print(data)\n",
    "\n"
   ]
  },
  {
   "cell_type": "code",
   "execution_count": null,
   "metadata": {
    "collapsed": true
   },
   "outputs": [],
   "source": []
  }
 ],
 "metadata": {
  "kernelspec": {
   "display_name": "Python 2",
   "language": "python",
   "name": "python2"
  },
  "language_info": {
   "codemirror_mode": {
    "name": "ipython",
    "version": 2
   },
   "file_extension": ".py",
   "mimetype": "text/x-python",
   "name": "python",
   "nbconvert_exporter": "python",
   "pygments_lexer": "ipython2",
   "version": "2.7.10"
  }
 },
 "nbformat": 4,
 "nbformat_minor": 2
}
